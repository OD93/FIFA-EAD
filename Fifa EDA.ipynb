{
 "cells": [
  {
   "cell_type": "code",
   "execution_count": 1,
   "id": "162f31f8-bfa6-489b-90f5-e36864e0541f",
   "metadata": {},
   "outputs": [
    {
     "data": {
      "text/html": [
       "<div>\n",
       "<style scoped>\n",
       "    .dataframe tbody tr th:only-of-type {\n",
       "        vertical-align: middle;\n",
       "    }\n",
       "\n",
       "    .dataframe tbody tr th {\n",
       "        vertical-align: top;\n",
       "    }\n",
       "\n",
       "    .dataframe thead th {\n",
       "        text-align: right;\n",
       "    }\n",
       "</style>\n",
       "<table border=\"1\" class=\"dataframe\">\n",
       "  <thead>\n",
       "    <tr style=\"text-align: right;\">\n",
       "      <th></th>\n",
       "      <th>ID</th>\n",
       "      <th>Name</th>\n",
       "      <th>Age</th>\n",
       "      <th>Nationality</th>\n",
       "      <th>Overall</th>\n",
       "      <th>Potential</th>\n",
       "      <th>Club</th>\n",
       "      <th>Value</th>\n",
       "      <th>Wage</th>\n",
       "      <th>Preferred Foot</th>\n",
       "      <th>International Reputation</th>\n",
       "      <th>Skill Moves</th>\n",
       "      <th>Position</th>\n",
       "      <th>Joined</th>\n",
       "      <th>Contract Valid Until</th>\n",
       "      <th>Height</th>\n",
       "      <th>Weight</th>\n",
       "      <th>Release Clause</th>\n",
       "    </tr>\n",
       "  </thead>\n",
       "  <tbody>\n",
       "    <tr>\n",
       "      <th>0</th>\n",
       "      <td>158023</td>\n",
       "      <td>L. Messi</td>\n",
       "      <td>31</td>\n",
       "      <td>Argentina</td>\n",
       "      <td>94</td>\n",
       "      <td>94</td>\n",
       "      <td>FC Barcelona</td>\n",
       "      <td>110500.0</td>\n",
       "      <td>565.0</td>\n",
       "      <td>Left</td>\n",
       "      <td>5.0</td>\n",
       "      <td>4.0</td>\n",
       "      <td>RF</td>\n",
       "      <td>2004</td>\n",
       "      <td>2021-01-01</td>\n",
       "      <td>5.583333</td>\n",
       "      <td>159.0</td>\n",
       "      <td>226500.0</td>\n",
       "    </tr>\n",
       "    <tr>\n",
       "      <th>1</th>\n",
       "      <td>20801</td>\n",
       "      <td>Cristiano Ronaldo</td>\n",
       "      <td>33</td>\n",
       "      <td>Portugal</td>\n",
       "      <td>94</td>\n",
       "      <td>94</td>\n",
       "      <td>Juventus</td>\n",
       "      <td>77000.0</td>\n",
       "      <td>405.0</td>\n",
       "      <td>Right</td>\n",
       "      <td>5.0</td>\n",
       "      <td>5.0</td>\n",
       "      <td>ST</td>\n",
       "      <td>2018</td>\n",
       "      <td>2022-01-01</td>\n",
       "      <td>6.166667</td>\n",
       "      <td>183.0</td>\n",
       "      <td>127100.0</td>\n",
       "    </tr>\n",
       "    <tr>\n",
       "      <th>2</th>\n",
       "      <td>190871</td>\n",
       "      <td>Neymar Jr</td>\n",
       "      <td>26</td>\n",
       "      <td>Brazil</td>\n",
       "      <td>92</td>\n",
       "      <td>93</td>\n",
       "      <td>Paris Saint-Germain</td>\n",
       "      <td>118500.0</td>\n",
       "      <td>290.0</td>\n",
       "      <td>Right</td>\n",
       "      <td>5.0</td>\n",
       "      <td>5.0</td>\n",
       "      <td>LW</td>\n",
       "      <td>2017</td>\n",
       "      <td>2022-01-01</td>\n",
       "      <td>5.750000</td>\n",
       "      <td>150.0</td>\n",
       "      <td>228100.0</td>\n",
       "    </tr>\n",
       "    <tr>\n",
       "      <th>3</th>\n",
       "      <td>193080</td>\n",
       "      <td>De Gea</td>\n",
       "      <td>27</td>\n",
       "      <td>Spain</td>\n",
       "      <td>91</td>\n",
       "      <td>93</td>\n",
       "      <td>Manchester United</td>\n",
       "      <td>72000.0</td>\n",
       "      <td>260.0</td>\n",
       "      <td>Right</td>\n",
       "      <td>4.0</td>\n",
       "      <td>1.0</td>\n",
       "      <td>GK</td>\n",
       "      <td>2011</td>\n",
       "      <td>2020-01-01</td>\n",
       "      <td>6.333333</td>\n",
       "      <td>168.0</td>\n",
       "      <td>138600.0</td>\n",
       "    </tr>\n",
       "    <tr>\n",
       "      <th>4</th>\n",
       "      <td>192985</td>\n",
       "      <td>K. De Bruyne</td>\n",
       "      <td>27</td>\n",
       "      <td>Belgium</td>\n",
       "      <td>91</td>\n",
       "      <td>92</td>\n",
       "      <td>Manchester City</td>\n",
       "      <td>102000.0</td>\n",
       "      <td>355.0</td>\n",
       "      <td>Right</td>\n",
       "      <td>4.0</td>\n",
       "      <td>4.0</td>\n",
       "      <td>RCM</td>\n",
       "      <td>2015</td>\n",
       "      <td>2023-01-01</td>\n",
       "      <td>5.916667</td>\n",
       "      <td>154.0</td>\n",
       "      <td>196400.0</td>\n",
       "    </tr>\n",
       "    <tr>\n",
       "      <th>...</th>\n",
       "      <td>...</td>\n",
       "      <td>...</td>\n",
       "      <td>...</td>\n",
       "      <td>...</td>\n",
       "      <td>...</td>\n",
       "      <td>...</td>\n",
       "      <td>...</td>\n",
       "      <td>...</td>\n",
       "      <td>...</td>\n",
       "      <td>...</td>\n",
       "      <td>...</td>\n",
       "      <td>...</td>\n",
       "      <td>...</td>\n",
       "      <td>...</td>\n",
       "      <td>...</td>\n",
       "      <td>...</td>\n",
       "      <td>...</td>\n",
       "      <td>...</td>\n",
       "    </tr>\n",
       "    <tr>\n",
       "      <th>18202</th>\n",
       "      <td>238813</td>\n",
       "      <td>J. Lundstram</td>\n",
       "      <td>19</td>\n",
       "      <td>England</td>\n",
       "      <td>47</td>\n",
       "      <td>65</td>\n",
       "      <td>Crewe Alexandra</td>\n",
       "      <td>60.0</td>\n",
       "      <td>1.0</td>\n",
       "      <td>Right</td>\n",
       "      <td>1.0</td>\n",
       "      <td>2.0</td>\n",
       "      <td>CM</td>\n",
       "      <td>2017</td>\n",
       "      <td>2019-01-01</td>\n",
       "      <td>5.750000</td>\n",
       "      <td>134.0</td>\n",
       "      <td>143.0</td>\n",
       "    </tr>\n",
       "    <tr>\n",
       "      <th>18203</th>\n",
       "      <td>243165</td>\n",
       "      <td>N. Christoffersson</td>\n",
       "      <td>19</td>\n",
       "      <td>Sweden</td>\n",
       "      <td>47</td>\n",
       "      <td>63</td>\n",
       "      <td>Trelleborgs FF</td>\n",
       "      <td>60.0</td>\n",
       "      <td>1.0</td>\n",
       "      <td>Right</td>\n",
       "      <td>1.0</td>\n",
       "      <td>2.0</td>\n",
       "      <td>ST</td>\n",
       "      <td>2018</td>\n",
       "      <td>2020-01-01</td>\n",
       "      <td>6.250000</td>\n",
       "      <td>170.0</td>\n",
       "      <td>113.0</td>\n",
       "    </tr>\n",
       "    <tr>\n",
       "      <th>18204</th>\n",
       "      <td>241638</td>\n",
       "      <td>B. Worman</td>\n",
       "      <td>16</td>\n",
       "      <td>England</td>\n",
       "      <td>47</td>\n",
       "      <td>67</td>\n",
       "      <td>Cambridge United</td>\n",
       "      <td>60.0</td>\n",
       "      <td>1.0</td>\n",
       "      <td>Right</td>\n",
       "      <td>1.0</td>\n",
       "      <td>2.0</td>\n",
       "      <td>ST</td>\n",
       "      <td>2017</td>\n",
       "      <td>2021-01-01</td>\n",
       "      <td>5.666667</td>\n",
       "      <td>148.0</td>\n",
       "      <td>165.0</td>\n",
       "    </tr>\n",
       "    <tr>\n",
       "      <th>18205</th>\n",
       "      <td>246268</td>\n",
       "      <td>D. Walker-Rice</td>\n",
       "      <td>17</td>\n",
       "      <td>England</td>\n",
       "      <td>47</td>\n",
       "      <td>66</td>\n",
       "      <td>Tranmere Rovers</td>\n",
       "      <td>60.0</td>\n",
       "      <td>1.0</td>\n",
       "      <td>Right</td>\n",
       "      <td>1.0</td>\n",
       "      <td>2.0</td>\n",
       "      <td>RW</td>\n",
       "      <td>2018</td>\n",
       "      <td>2019-01-01</td>\n",
       "      <td>5.833333</td>\n",
       "      <td>154.0</td>\n",
       "      <td>143.0</td>\n",
       "    </tr>\n",
       "    <tr>\n",
       "      <th>18206</th>\n",
       "      <td>246269</td>\n",
       "      <td>G. Nugent</td>\n",
       "      <td>16</td>\n",
       "      <td>England</td>\n",
       "      <td>46</td>\n",
       "      <td>66</td>\n",
       "      <td>Tranmere Rovers</td>\n",
       "      <td>60.0</td>\n",
       "      <td>1.0</td>\n",
       "      <td>Right</td>\n",
       "      <td>1.0</td>\n",
       "      <td>2.0</td>\n",
       "      <td>CM</td>\n",
       "      <td>2018</td>\n",
       "      <td>2019-01-01</td>\n",
       "      <td>5.833333</td>\n",
       "      <td>176.0</td>\n",
       "      <td>165.0</td>\n",
       "    </tr>\n",
       "  </tbody>\n",
       "</table>\n",
       "<p>18207 rows × 18 columns</p>\n",
       "</div>"
      ],
      "text/plain": [
       "           ID                Name  Age Nationality  Overall  Potential  \\\n",
       "0      158023            L. Messi   31   Argentina       94         94   \n",
       "1       20801   Cristiano Ronaldo   33    Portugal       94         94   \n",
       "2      190871           Neymar Jr   26      Brazil       92         93   \n",
       "3      193080              De Gea   27       Spain       91         93   \n",
       "4      192985        K. De Bruyne   27     Belgium       91         92   \n",
       "...       ...                 ...  ...         ...      ...        ...   \n",
       "18202  238813        J. Lundstram   19     England       47         65   \n",
       "18203  243165  N. Christoffersson   19      Sweden       47         63   \n",
       "18204  241638           B. Worman   16     England       47         67   \n",
       "18205  246268      D. Walker-Rice   17     England       47         66   \n",
       "18206  246269           G. Nugent   16     England       46         66   \n",
       "\n",
       "                      Club     Value   Wage Preferred Foot  \\\n",
       "0             FC Barcelona  110500.0  565.0           Left   \n",
       "1                 Juventus   77000.0  405.0          Right   \n",
       "2      Paris Saint-Germain  118500.0  290.0          Right   \n",
       "3        Manchester United   72000.0  260.0          Right   \n",
       "4          Manchester City  102000.0  355.0          Right   \n",
       "...                    ...       ...    ...            ...   \n",
       "18202      Crewe Alexandra      60.0    1.0          Right   \n",
       "18203       Trelleborgs FF      60.0    1.0          Right   \n",
       "18204     Cambridge United      60.0    1.0          Right   \n",
       "18205      Tranmere Rovers      60.0    1.0          Right   \n",
       "18206      Tranmere Rovers      60.0    1.0          Right   \n",
       "\n",
       "       International Reputation  Skill Moves Position  Joined  \\\n",
       "0                           5.0          4.0       RF    2004   \n",
       "1                           5.0          5.0       ST    2018   \n",
       "2                           5.0          5.0       LW    2017   \n",
       "3                           4.0          1.0       GK    2011   \n",
       "4                           4.0          4.0      RCM    2015   \n",
       "...                         ...          ...      ...     ...   \n",
       "18202                       1.0          2.0       CM    2017   \n",
       "18203                       1.0          2.0       ST    2018   \n",
       "18204                       1.0          2.0       ST    2017   \n",
       "18205                       1.0          2.0       RW    2018   \n",
       "18206                       1.0          2.0       CM    2018   \n",
       "\n",
       "      Contract Valid Until    Height  Weight  Release Clause  \n",
       "0               2021-01-01  5.583333   159.0        226500.0  \n",
       "1               2022-01-01  6.166667   183.0        127100.0  \n",
       "2               2022-01-01  5.750000   150.0        228100.0  \n",
       "3               2020-01-01  6.333333   168.0        138600.0  \n",
       "4               2023-01-01  5.916667   154.0        196400.0  \n",
       "...                    ...       ...     ...             ...  \n",
       "18202           2019-01-01  5.750000   134.0           143.0  \n",
       "18203           2020-01-01  6.250000   170.0           113.0  \n",
       "18204           2021-01-01  5.666667   148.0           165.0  \n",
       "18205           2019-01-01  5.833333   154.0           143.0  \n",
       "18206           2019-01-01  5.833333   176.0           165.0  \n",
       "\n",
       "[18207 rows x 18 columns]"
      ]
     },
     "execution_count": 1,
     "metadata": {},
     "output_type": "execute_result"
    }
   ],
   "source": [
    "import pandas as pd\n",
    "    \n",
    "fifa_df = pd.read_csv(\"fifa_eda.csv\")\n",
    "fifa_df"
   ]
  },
  {
   "cell_type": "code",
   "execution_count": 2,
   "id": "7e36f265-0b65-4e00-a0ed-532ab04cf2be",
   "metadata": {},
   "outputs": [
    {
     "data": {
      "text/plain": [
       "Index(['ID', 'Name', 'Age', 'Nationality', 'Overall', 'Potential', 'Club',\n",
       "       'Value', 'Wage', 'Preferred Foot', 'International Reputation',\n",
       "       'Skill Moves', 'Position', 'Joined', 'Contract Valid Until', 'Height',\n",
       "       'Weight', 'Release Clause'],\n",
       "      dtype='object')"
      ]
     },
     "execution_count": 2,
     "metadata": {},
     "output_type": "execute_result"
    }
   ],
   "source": [
    "#checking the list of columns\n",
    "fifa_df.columns"
   ]
  },
  {
   "cell_type": "code",
   "execution_count": 3,
   "id": "447b72ab-7f11-47e4-add0-3dafb89b2053",
   "metadata": {},
   "outputs": [
    {
     "data": {
      "text/plain": [
       "(18207, 18)"
      ]
     },
     "execution_count": 3,
     "metadata": {},
     "output_type": "execute_result"
    }
   ],
   "source": [
    "fifa_df.shape"
   ]
  },
  {
   "cell_type": "code",
   "execution_count": 4,
   "id": "3a1cbef8-f605-4b3a-a1a8-a75c85842fa8",
   "metadata": {},
   "outputs": [
    {
     "data": {
      "text/plain": [
       "ID                            0\n",
       "Name                          0\n",
       "Age                           0\n",
       "Nationality                   0\n",
       "Overall                       0\n",
       "Potential                     0\n",
       "Club                        241\n",
       "Value                       252\n",
       "Wage                          0\n",
       "Preferred Foot                0\n",
       "International Reputation     48\n",
       "Skill Moves                  48\n",
       "Position                      0\n",
       "Joined                        0\n",
       "Contract Valid Until        289\n",
       "Height                        0\n",
       "Weight                        0\n",
       "Release Clause                0\n",
       "dtype: int64"
      ]
     },
     "execution_count": 4,
     "metadata": {},
     "output_type": "execute_result"
    }
   ],
   "source": [
    "fifa_df.isna().sum()"
   ]
  },
  {
   "cell_type": "code",
   "execution_count": 5,
   "id": "afd2771d-4f24-4e9b-a063-7bff90196da2",
   "metadata": {},
   "outputs": [
    {
     "data": {
      "text/plain": [
       "(17907, 18)"
      ]
     },
     "execution_count": 5,
     "metadata": {},
     "output_type": "execute_result"
    }
   ],
   "source": [
    "fifa_df.dropna(inplace=True)\n",
    "fifa_df.shape"
   ]
  },
  {
   "cell_type": "code",
   "execution_count": 6,
   "id": "8aa6eeaa-0dc2-4180-9bf1-6c47f26b9d9d",
   "metadata": {},
   "outputs": [
    {
     "data": {
      "text/plain": [
       "Joined\n",
       "2018    6566\n",
       "2017    4305\n",
       "2016    3509\n",
       "2015    1336\n",
       "2014     818\n",
       "2013     458\n",
       "2012     339\n",
       "2011     199\n",
       "2010     131\n",
       "2009      78\n",
       "2008      53\n",
       "2007      38\n",
       "2006      18\n",
       "2005      17\n",
       "2003      13\n",
       "2004      12\n",
       "2002       8\n",
       "1998       3\n",
       "2001       2\n",
       "2000       2\n",
       "1999       1\n",
       "1991       1\n",
       "dtype: int64"
      ]
     },
     "execution_count": 6,
     "metadata": {},
     "output_type": "execute_result"
    }
   ],
   "source": [
    "#Recruits in Years\n",
    "fifa_df.value_counts('Joined')"
   ]
  },
  {
   "cell_type": "code",
   "execution_count": 7,
   "id": "8617a7e7-904f-4538-a991-4f35b54b470f",
   "metadata": {},
   "outputs": [
    {
     "name": "stdout",
     "output_type": "stream",
     "text": [
      "No. of recruits by Clubs:  Club\n",
      "FC Barcelona                 33\n",
      "Valencia CF                  33\n",
      "TSG 1899 Hoffenheim          33\n",
      "Real Madrid                  33\n",
      "Manchester City              33\n",
      "                             ..\n",
      "América FC (Minas Gerais)    20\n",
      "Botafogo                     20\n",
      "Limerick FC                  19\n",
      "Sligo Rovers                 19\n",
      "Derry City                   18\n",
      "Length: 651, dtype: int64\n"
     ]
    }
   ],
   "source": [
    "#Recruits by Clubs\n",
    "fifa_df.value_counts('Club')\n",
    "print(\"No. of recruits by Clubs: \", fifa_df.value_counts('Club'))"
   ]
  },
  {
   "cell_type": "code",
   "execution_count": 8,
   "id": "9531d4a1-8290-4792-a524-02bd1c60bb89",
   "metadata": {},
   "outputs": [
    {
     "name": "stdout",
     "output_type": "stream",
     "text": [
      "No. of unique Clubs: 651\n"
     ]
    }
   ],
   "source": [
    "#Number of Clubs\n",
    "print(\"No. of unique Clubs:\", len(pd.unique(fifa_df['Club'])))"
   ]
  },
  {
   "cell_type": "code",
   "execution_count": 9,
   "id": "15e398f7-3f19-454f-a853-5077f41d72ba",
   "metadata": {},
   "outputs": [],
   "source": [
    "#plt.barh(df.loc[df1.index].Name, df1.values)"
   ]
  },
  {
   "cell_type": "code",
   "execution_count": 10,
   "id": "5f2114cf-04f9-4914-9fae-a5c222960afc",
   "metadata": {},
   "outputs": [
    {
     "data": {
      "text/plain": [
       "27"
      ]
     },
     "execution_count": 10,
     "metadata": {},
     "output_type": "execute_result"
    }
   ],
   "source": [
    "len(pd.unique(fifa_df['Position']))"
   ]
  },
  {
   "cell_type": "code",
   "execution_count": 11,
   "id": "b9b37c1f-d7a7-4ed5-8bc8-8685f8fd8464",
   "metadata": {},
   "outputs": [
    {
     "name": "stdout",
     "output_type": "stream",
     "text": [
      "No. of recruits by Clubs:  Position\n",
      "ST     2130\n",
      "GK     1989\n",
      "CB     1751\n",
      "CM     1377\n",
      "LB     1304\n",
      "RB     1268\n",
      "RM     1114\n",
      "LM     1086\n",
      "CAM     946\n",
      "CDM     936\n",
      "RCB     652\n",
      "LCB     635\n",
      "LCM     389\n",
      "RCM     387\n",
      "LW      374\n",
      "RW      365\n",
      "RDM     246\n",
      "LDM     239\n",
      "LS      206\n",
      "RS      201\n",
      "RWB      87\n",
      "LWB      78\n",
      "CF       74\n",
      "LAM      21\n",
      "RAM      21\n",
      "RF       16\n",
      "LF       15\n",
      "dtype: int64\n"
     ]
    }
   ],
   "source": [
    "print(\"No. of recruits by Clubs: \", fifa_df.value_counts('Position'))"
   ]
  },
  {
   "cell_type": "code",
   "execution_count": 12,
   "id": "b5e9a046-f2bf-41f7-a60c-c611811ce1b4",
   "metadata": {},
   "outputs": [],
   "source": [
    "import plotly.express as px\n",
    "import matplotlib\n",
    "import matplotlib.pyplot as plt\n",
    "import seaborn as sns\n",
    "import plotly.io as pio\n",
    "pio.renderers.default = 'iframe'\n",
    "from IPython.display import HTML\n",
    "import numpy as np\n",
    "\n",
    "sns.set_style('darkgrid')\n",
    "matplotlib.rcParams['font.size'] = 14\n",
    "matplotlib.rcParams['figure.figsize'] = (10,6)\n",
    "matplotlib.rcParams['figure.facecolor'] = '#00000000'"
   ]
  },
  {
   "cell_type": "code",
   "execution_count": 13,
   "id": "13efef4f-8376-48b4-a1c7-4d747f1b1b34",
   "metadata": {},
   "outputs": [
    {
     "data": {
      "text/plain": [
       "Position\n",
       "ST     2130\n",
       "GK     1989\n",
       "CB     1751\n",
       "CM     1377\n",
       "LB     1304\n",
       "RB     1268\n",
       "RM     1114\n",
       "LM     1086\n",
       "CAM     946\n",
       "CDM     936\n",
       "dtype: int64"
      ]
     },
     "execution_count": 13,
     "metadata": {},
     "output_type": "execute_result"
    }
   ],
   "source": [
    "pos_df = fifa_df.value_counts('Position').head(10)\n",
    "pos_df"
   ]
  },
  {
   "cell_type": "code",
   "execution_count": 14,
   "id": "cea6495b-719e-4238-9e37-2b818122e841",
   "metadata": {},
   "outputs": [
    {
     "data": {
      "text/plain": [
       "<AxesSubplot:xlabel='Position'>"
      ]
     },
     "execution_count": 14,
     "metadata": {},
     "output_type": "execute_result"
    },
    {
     "data": {
      "image/png": "[encoded data removed]",
      "text/plain": [
       "<Figure size 720x432 with 1 Axes>"
      ]
     },
     "metadata": {
      "needs_background": "light"
     },
     "output_type": "display_data"
    }
   ],
   "source": [
    "sns.barplot(x=pos_df.index, y= pos_df.to_list())"
   ]
  },
  {
   "cell_type": "code",
   "execution_count": 15,
   "id": "62f92462-3f04-43a2-bcf6-11e8ca5c3c43",
   "metadata": {},
   "outputs": [
    {
     "data": {
      "text/plain": [
       "Age\n",
       "21    1412\n",
       "26    1348\n",
       "24    1334\n",
       "23    1313\n",
       "22    1312\n",
       "25    1295\n",
       "20    1229\n",
       "27    1145\n",
       "28    1077\n",
       "19    1017\n",
       "dtype: int64"
      ]
     },
     "execution_count": 15,
     "metadata": {},
     "output_type": "execute_result"
    }
   ],
   "source": [
    "pos_df = fifa_df.value_counts('Age').head(10)\n",
    "pos_df"
   ]
  },
  {
   "cell_type": "code",
   "execution_count": 16,
   "id": "d4783906-35cc-4979-94a4-da8d30f0761e",
   "metadata": {},
   "outputs": [
    {
     "data": {
      "text/plain": [
       "0        31\n",
       "1        33\n",
       "2        26\n",
       "3        27\n",
       "4        27\n",
       "         ..\n",
       "18202    19\n",
       "18203    19\n",
       "18204    16\n",
       "18205    17\n",
       "18206    16\n",
       "Name: Age, Length: 17907, dtype: int64"
      ]
     },
     "execution_count": 16,
     "metadata": {},
     "output_type": "execute_result"
    }
   ],
   "source": [
    "age = fifa_df.Age\n",
    "age"
   ]
  },
  {
   "cell_type": "code",
   "execution_count": 17,
   "id": "9249101c-36d1-4341-baf6-134ffe71fe5f",
   "metadata": {},
   "outputs": [
    {
     "data": {
      "image/png": "[encoded data removed]",
      "text/plain": [
       "<Figure size 720x432 with 1 Axes>"
      ]
     },
     "metadata": {
      "needs_background": "light"
     },
     "output_type": "display_data"
    }
   ],
   "source": [
    "#plt.style.use('ggplot')\n",
    "plt.hist(age)\n",
    "plt.xlabel(\"Age\")\n",
    "plt.ylabel(\"Age Disribution\")\n",
    "plt.title(\"Age Distribution Histogram\")\n",
    "plt.show()"
   ]
  },
  {
   "cell_type": "code",
   "execution_count": 31,
   "id": "c45c789a-fd4b-4962-bf5e-c0554bb7c88b",
   "metadata": {},
   "outputs": [
    {
     "name": "stderr",
     "output_type": "stream",
     "text": [
      "/Users/krishnakumarjena/opt/anaconda3/lib/python3.9/site-packages/seaborn/distributions.py:316: UserWarning:\n",
      "\n",
      "Dataset has 0 variance; skipping density estimate. Pass `warn_singular=False` to disable this warning.\n",
      "\n",
      "/Users/krishnakumarjena/opt/anaconda3/lib/python3.9/site-packages/seaborn/distributions.py:316: UserWarning:\n",
      "\n",
      "Dataset has 0 variance; skipping density estimate. Pass `warn_singular=False` to disable this warning.\n",
      "\n",
      "/Users/krishnakumarjena/opt/anaconda3/lib/python3.9/site-packages/seaborn/distributions.py:316: UserWarning:\n",
      "\n",
      "Dataset has 0 variance; skipping density estimate. Pass `warn_singular=False` to disable this warning.\n",
      "\n",
      "/Users/krishnakumarjena/opt/anaconda3/lib/python3.9/site-packages/seaborn/distributions.py:316: UserWarning:\n",
      "\n",
      "Dataset has 0 variance; skipping density estimate. Pass `warn_singular=False` to disable this warning.\n",
      "\n"
     ]
    },
    {
     "data": {
      "text/plain": [
       "<seaborn.axisgrid.FacetGrid at 0x7f8e9048ce20>"
      ]
     },
     "execution_count": 31,
     "metadata": {},
     "output_type": "execute_result"
    },
    {
     "data": {
      "image/png": "[encoded data removed]",
      "text/plain": [
       "<Figure size 470.275x360 with 1 Axes>"
      ]
     },
     "metadata": {
      "needs_background": "light"
     },
     "output_type": "display_data"
    }
   ],
   "source": [
    "sns.displot(fifa_df.head(20), x=\"Age\", hue=\"Nationality\", kind=\"kde\", fill=True)"
   ]
  },
  {
   "cell_type": "code",
   "execution_count": null,
   "id": "726e8236-96e2-418c-880b-1afdadeb8373",
   "metadata": {},
   "outputs": [],
   "source": []
  }
 ],
 "metadata": {
  "kernelspec": {
   "display_name": "Python 3 (ipykernel)",
   "language": "python",
   "name": "python3"
  },
  "language_info": {
   "codemirror_mode": {
    "name": "ipython",
    "version": 3
   },
   "file_extension": ".py",
   "mimetype": "text/x-python",
   "name": "python",
   "nbconvert_exporter": "python",
   "pygments_lexer": "ipython3",
   "version": "3.9.7"
  }
 },
 "nbformat": 4,
 "nbformat_minor": 5
}
